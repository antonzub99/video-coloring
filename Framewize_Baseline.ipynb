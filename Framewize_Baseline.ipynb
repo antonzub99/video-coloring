{
  "nbformat": 4,
  "nbformat_minor": 0,
  "metadata": {
    "colab": {
      "name": "Frame-wize Baseline.ipynb",
      "provenance": [],
      "collapsed_sections": []
    },
    "kernelspec": {
      "name": "python3",
      "display_name": "Python 3"
    },
    "language_info": {
      "name": "python"
    },
    "accelerator": "GPU"
  },
  "cells": [
    {
      "cell_type": "code",
      "source": [
        "!git clone https://github.com/antonzub99/video-coloring.git"
      ],
      "metadata": {
        "colab": {
          "base_uri": "https://localhost:8080/"
        },
        "id": "idTFkj9CQhRH",
        "outputId": "3d93ff6a-1994-4a6f-d234-ddd56ae747b9"
      },
      "execution_count": 17,
      "outputs": [
        {
          "output_type": "stream",
          "name": "stdout",
          "text": [
            "Cloning into 'video-coloring'...\n",
            "remote: Enumerating objects: 71, done.\u001b[K\n",
            "remote: Counting objects: 100% (71/71), done.\u001b[K\n",
            "remote: Compressing objects: 100% (51/51), done.\u001b[K\n",
            "remote: Total 71 (delta 27), reused 56 (delta 16), pack-reused 0\u001b[K\n",
            "Unpacking objects: 100% (71/71), done.\n"
          ]
        }
      ]
    },
    {
      "cell_type": "code",
      "source": [
        "!mv video-coloring/* ."
      ],
      "metadata": {
        "id": "RaVBLmvaisF4"
      },
      "execution_count": 18,
      "outputs": []
    },
    {
      "cell_type": "markdown",
      "source": [
        "# Frame-wize colorization without temporary consistency"
      ],
      "metadata": {
        "id": "Yexv0VHUPs8k"
      }
    },
    {
      "cell_type": "markdown",
      "source": [
        "## Data preparation\n",
        "\n",
        "We select 5 last videos fram DAVIS dataset and a fragment from Andrey Rublev black-and-white film."
      ],
      "metadata": {
        "id": "eu1p5Tl1QxPY"
      }
    },
    {
      "cell_type": "code",
      "source": [
        "!wget https://data.vision.ee.ethz.ch/csergi/share/davis/DAVIS-2017-trainval-480p.zip\n",
        "!unzip -d ./videos ./DAVIS-2017-trainval-480p.zip"
      ],
      "metadata": {
        "colab": {
          "base_uri": "https://localhost:8080/"
        },
        "id": "CPB2A8qrR0Ck",
        "outputId": "57729ecc-8519-4b4b-89c1-bbc8b21b09f7"
      },
      "execution_count": 19,
      "outputs": [
        {
          "output_type": "stream",
          "name": "stdout",
          "text": [
            "--2022-05-26 12:41:05--  https://data.vision.ee.ethz.ch/csergi/share/davis/DAVIS-2017-trainval-480p.zip\n",
            "Resolving data.vision.ee.ethz.ch (data.vision.ee.ethz.ch)... 129.132.52.178, 2001:67c:10ec:36c2::178\n",
            "Connecting to data.vision.ee.ethz.ch (data.vision.ee.ethz.ch)|129.132.52.178|:443... connected.\n",
            "HTTP request sent, awaiting response... 200 OK\n",
            "Length: 832766765 (794M) [application/zip]\n",
            "Saving to: ‘DAVIS-2017-trainval-480p.zip.1’\n",
            "\n",
            "DAVIS-2017-trainval 100%[===================>] 794.19M  14.5MB/s    in 49s     \n",
            "\n",
            "2022-05-26 12:41:54 (16.3 MB/s) - ‘DAVIS-2017-trainval-480p.zip.1’ saved [832766765/832766765]\n",
            "\n",
            "Archive:  ./DAVIS-2017-trainval-480p.zip\n",
            "replace ./videos/DAVIS/Annotations/480p/bear/00000.png? [y]es, [n]o, [A]ll, [N]one, [r]ename: N\n"
          ]
        }
      ]
    },
    {
      "cell_type": "code",
      "source": [
        "!gdown 1UObl9IPKHLZcKSxK7Lhl4QGmxra6rbLg"
      ],
      "metadata": {
        "colab": {
          "base_uri": "https://localhost:8080/"
        },
        "id": "oYX6d17TvSMy",
        "outputId": "4724701b-07a6-4260-9758-17a6073353bf"
      },
      "execution_count": 20,
      "outputs": [
        {
          "output_type": "stream",
          "name": "stdout",
          "text": [
            "Downloading...\n",
            "From: https://drive.google.com/uc?id=1UObl9IPKHLZcKSxK7Lhl4QGmxra6rbLg\n",
            "To: /content/val.zip\n",
            "\r  0% 0.00/5.59M [00:00<?, ?B/s]\r100% 5.59M/5.59M [00:00<00:00, 193MB/s]\n"
          ]
        }
      ]
    },
    {
      "cell_type": "code",
      "source": [
        "!unzip -d ./rublev val.zip"
      ],
      "metadata": {
        "colab": {
          "base_uri": "https://localhost:8080/"
        },
        "id": "9AOdVXP_vcDm",
        "outputId": "8030d028-0a02-4d7d-9bc1-ddf5f8d282e1"
      },
      "execution_count": 21,
      "outputs": [
        {
          "output_type": "stream",
          "name": "stdout",
          "text": [
            "Archive:  val.zip\n",
            "replace ./rublev/img001.jpg? [y]es, [n]o, [A]ll, [N]one, [r]ename: N\n"
          ]
        }
      ]
    },
    {
      "cell_type": "code",
      "source": [
        "import dataset "
      ],
      "metadata": {
        "id": "nPPUUDwGQwcf"
      },
      "execution_count": 25,
      "outputs": []
    },
    {
      "cell_type": "code",
      "source": [
        "dawis_dataset = dataset.VideoDataset('./videos/DAVIS/JPEGImages/480p', frame_stack=1, img_size=128, need_full_videos=True)"
      ],
      "metadata": {
        "colab": {
          "base_uri": "https://localhost:8080/"
        },
        "id": "qDbTkGIBSGxy",
        "outputId": "d927f1e3-ee8e-4a28-ce94-fe00256d44ba"
      },
      "execution_count": 26,
      "outputs": [
        {
          "output_type": "stream",
          "name": "stderr",
          "text": [
            "100%|██████████| 90/90 [01:43<00:00,  1.15s/it]\n"
          ]
        }
      ]
    },
    {
      "cell_type": "code",
      "source": [
        "rublev = dataset.OneBWVideoDataset('./rublev', frame_stack=5, img_size=128)"
      ],
      "metadata": {
        "id": "3xA13ipwxQWr"
      },
      "execution_count": 27,
      "outputs": []
    },
    {
      "cell_type": "code",
      "source": [
        "from torch.utils.data import DataLoader\n",
        "\n",
        "rublev_dataset = DataLoader(rublev, num_workers=2, batch_size=32, shuffle=False)"
      ],
      "metadata": {
        "id": "Ww3IlyktxeIZ"
      },
      "execution_count": 28,
      "outputs": []
    },
    {
      "cell_type": "markdown",
      "source": [
        "### Run CIC network for DAVIS testing part"
      ],
      "metadata": {
        "id": "YIHMjlU51Fuw"
      }
    },
    {
      "cell_type": "code",
      "source": [
        "%load_ext autoreload\n",
        "%autoreload 2"
      ],
      "metadata": {
        "id": "Md7Eb5XzaXjO"
      },
      "execution_count": 33,
      "outputs": []
    },
    {
      "cell_type": "code",
      "execution_count": 34,
      "metadata": {
        "id": "qyoTe7vcPjrs"
      },
      "outputs": [],
      "source": [
        "import framewise"
      ]
    },
    {
      "cell_type": "code",
      "source": [
        "model = framewise.eccv16_framewise(pretrained=True).eval().cuda()"
      ],
      "metadata": {
        "colab": {
          "base_uri": "https://localhost:8080/"
        },
        "id": "H6mgxkJVQmiY",
        "outputId": "93755724-5480-4699-febf-42fdf243b05b"
      },
      "execution_count": 37,
      "outputs": [
        {
          "output_type": "stream",
          "name": "stderr",
          "text": [
            "[autoreload of framewise failed: Traceback (most recent call last):\n",
            "  File \"/usr/local/lib/python3.7/dist-packages/IPython/extensions/autoreload.py\", line 247, in check\n",
            "    superreload(m, reload, self.old_objects)\n",
            "ValueError: __init__() requires a code object with 0 free vars, not 1\n",
            "]\n"
          ]
        }
      ]
    },
    {
      "cell_type": "code",
      "source": [
        "import matplotlib.pyplot as plt\n",
        "import imageio\n",
        "import cv2\n",
        "import torch.nn.functional as F\n",
        "import torch\n",
        "import numpy as np\n",
        "from skimage import color\n",
        "\n",
        "for i in range(85, 90):\n",
        "    with torch.no_grad():\n",
        "        # C x T x H x W\n",
        "        lum, ab = dawis_dataset[i]\n",
        "        # C x T x H x W\n",
        "        pred_ab = model(lum[None,...].float().cuda()).cpu()[0]\n",
        "\n",
        "        lab_preds = torch.cat((lum, pred_ab), dim=0).permute(1,2,3,0).numpy()\n",
        "        lab_reals = torch.cat((lum, ab), dim=0).permute(1,2,3,0).numpy()\n",
        "\n",
        "        img_pred = torch.tensor(color.lab2rgb(lab_preds))\n",
        "        img_real =  torch.tensor(color.lab2rgb(lab_reals))\n",
        "\n",
        "        video = np.concatenate((lum.repeat(3,1,1,1).permute(1,2,3,0) / 100, img_pred, img_real), axis=2)\n",
        "    \n",
        "\n",
        "    gif_name = 'DAVIS_{}.gif'.format(i)\n",
        "    imageio.mimsave(gif_name, (np.clip(video, 0, 1) * 255).astype(np.uint8))"
      ],
      "metadata": {
        "id": "jH_3JTLMS_wS",
        "colab": {
          "base_uri": "https://localhost:8080/"
        },
        "outputId": "a48d7f81-c80a-4b23-8ecc-7293efab63e5"
      },
      "execution_count": 40,
      "outputs": [
        {
          "output_type": "stream",
          "name": "stderr",
          "text": [
            "/usr/local/lib/python3.7/dist-packages/skimage/color/colorconv.py:1109: UserWarning: Color data out of range: Z < 0 in 1 pixels\n",
            "  return xyz2rgb(lab2xyz(lab, illuminant, observer))\n"
          ]
        }
      ]
    },
    {
      "cell_type": "markdown",
      "source": [
        "Final videos:\n",
        "\n",
        "<img src=\"https://imgur.com/bQLBK3N.gif\">\n",
        "\n",
        "\n",
        "<img src=\"https://imgur.com/OtHOZ3v.gif\">\n",
        "\n",
        "\n",
        "<img src=\"https://imgur.com/3nrR46W.gif\">\n",
        "\n",
        "\n",
        "<img src=\"https://imgur.com/w5uRFNG.gif\">\n",
        "\n",
        "\n",
        "<img src=\"https://imgur.com/IBFkUQq.gif\">\n"
      ],
      "metadata": {
        "id": "POLbL50Rc0at"
      }
    },
    {
      "cell_type": "markdown",
      "source": [
        "### Run on RublevNet dataset"
      ],
      "metadata": {
        "id": "Ht8TeL_z20Lk"
      }
    },
    {
      "cell_type": "code",
      "source": [
        "rublev_video = []\n",
        "\n",
        "with torch.no_grad():\n",
        "    for batch in rublev_dataset:\n",
        "        lum = batch.float().cuda()\n",
        "        ab = model(lum).cpu()\n",
        "\n",
        "        lab = torch.cat((lum.cpu(), ab), dim=1).permute(0,2,3,4,1).flatten(end_dim=1)\n",
        "        rgb = color.lab2rgb(lab)\n",
        "        wb = lum.cpu().repeat(1,3,1,1,1).permute(0,2,3,4,1).flatten(end_dim=1).numpy()\n",
        "\n",
        "        rublev_video.append(np.concatenate((wb / 100, rgb), axis=2))\n"
      ],
      "metadata": {
        "colab": {
          "base_uri": "https://localhost:8080/"
        },
        "id": "juUjN4_NXoid",
        "outputId": "12b62741-8730-4918-b2b8-8b73dd855a1a"
      },
      "execution_count": 41,
      "outputs": [
        {
          "output_type": "stream",
          "name": "stderr",
          "text": [
            "/usr/local/lib/python3.7/dist-packages/skimage/color/colorconv.py:1109: UserWarning: Color data out of range: Z < 0 in 106 pixels\n",
            "  return xyz2rgb(lab2xyz(lab, illuminant, observer))\n",
            "/usr/local/lib/python3.7/dist-packages/skimage/color/colorconv.py:1109: UserWarning: Color data out of range: Z < 0 in 4507 pixels\n",
            "  return xyz2rgb(lab2xyz(lab, illuminant, observer))\n",
            "/usr/local/lib/python3.7/dist-packages/skimage/color/colorconv.py:1109: UserWarning: Color data out of range: Z < 0 in 5 pixels\n",
            "  return xyz2rgb(lab2xyz(lab, illuminant, observer))\n"
          ]
        }
      ]
    },
    {
      "cell_type": "code",
      "source": [
        "final_rublev = np.concatenate(rublev_video, axis=0)"
      ],
      "metadata": {
        "id": "JC0Rf8tczF0V"
      },
      "execution_count": 42,
      "outputs": []
    },
    {
      "cell_type": "code",
      "source": [
        "final_rublev.shape"
      ],
      "metadata": {
        "colab": {
          "base_uri": "https://localhost:8080/"
        },
        "id": "TqdQLEFYcaMj",
        "outputId": "19ed6a65-80cc-41f1-aa7e-a984493f8e66"
      },
      "execution_count": 43,
      "outputs": [
        {
          "output_type": "execute_result",
          "data": {
            "text/plain": [
              "(375, 128, 256, 3)"
            ]
          },
          "metadata": {},
          "execution_count": 43
        }
      ]
    },
    {
      "cell_type": "code",
      "source": [
        "imageio.mimsave('rublev.gif', (np.clip(final_rublev, 0, 1) * 255).astype(np.uint8))"
      ],
      "metadata": {
        "id": "5KuRgqfGzcYL"
      },
      "execution_count": 44,
      "outputs": []
    },
    {
      "cell_type": "markdown",
      "source": [
        "Result:\n",
        "\n",
        "<img width=512 src=\"https://imgur.com/Xxko6NI.gif\">"
      ],
      "metadata": {
        "id": "u8qW3IkddYn-"
      }
    },
    {
      "cell_type": "code",
      "source": [
        ""
      ],
      "metadata": {
        "id": "AoomeBSPdmqH"
      },
      "execution_count": null,
      "outputs": []
    }
  ]
}